{
  "nbformat": 4,
  "nbformat_minor": 0,
  "metadata": {
    "colab": {
      "provenance": [],
      "authorship_tag": "ABX9TyMsFXTzQGlgheR9MhrKUIcl",
      "include_colab_link": true
    },
    "kernelspec": {
      "name": "python3",
      "display_name": "Python 3"
    },
    "language_info": {
      "name": "python"
    }
  },
  "cells": [
    {
      "cell_type": "markdown",
      "metadata": {
        "id": "view-in-github",
        "colab_type": "text"
      },
      "source": [
        "<a href=\"https://colab.research.google.com/github/rubychg/colab_projects/blob/main/0502.ipynb\" target=\"_parent\"><img src=\"https://colab.research.google.com/assets/colab-badge.svg\" alt=\"Open In Colab\"/></a>"
      ]
    },
    {
      "cell_type": "code",
      "execution_count": null,
      "metadata": {
        "colab": {
          "base_uri": "https://localhost:8080/"
        },
        "id": "Oz8DoHnCBKKD",
        "outputId": "f26a0ab7-c6a3-4322-c13d-584278ed36a4"
      },
      "outputs": [
        {
          "output_type": "stream",
          "name": "stdout",
          "text": [
            "20\n",
            "today is a good day!\n",
            "TODAY IS A GOOD DAY!\n"
          ]
        }
      ],
      "source": [
        "n sent = \"Today is a good day!\"\n",
        "\n",
        "new_sent_lower = sent.lower()\n",
        "new_sent_upper = sent.upper()\n",
        "\n",
        "print(len(sent))\n",
        "print(new_sent_lower)\n",
        "print(new_sent_upper)"
      ]
    },
    {
      "cell_type": "code",
      "source": [
        "string_1 = \"Paris\"\n",
        "string_2 = \"Lyon\"\n",
        "\n",
        "print(f\"Welcome to {string_1} and {string_2}! Enjoy your journey!\")"
      ],
      "metadata": {
        "colab": {
          "base_uri": "https://localhost:8080/"
        },
        "id": "X2MnwV6MEZm4",
        "outputId": "67c28a82-1235-4f1c-99ee-80e0f1c9f564"
      },
      "execution_count": null,
      "outputs": [
        {
          "output_type": "stream",
          "name": "stdout",
          "text": [
            "Welcome to Paris and Lyon! Enjoy your journey!\n"
          ]
        }
      ]
    },
    {
      "cell_type": "code",
      "source": [
        "string_1 = \"hard\"\n",
        "string_2 = \"difficult\"\n",
        "string_3 = \"easy\"\n",
        "string_4 = \"fun\"\n",
        "\n",
        "print(f\"This course is {string_1} and {string_2}.\")\n",
        "print(f\"This sport is {string_3} and {string_4}!\")\n",
        "print(len(string_2))"
      ],
      "metadata": {
        "colab": {
          "base_uri": "https://localhost:8080/"
        },
        "id": "bC-rjHvAE7Cu",
        "outputId": "2286b743-0cf2-41fa-c532-682eeedab477"
      },
      "execution_count": null,
      "outputs": [
        {
          "output_type": "stream",
          "name": "stdout",
          "text": [
            "This course is hard and difficult.\n",
            "This sport is easy and fun!\n",
            "9\n"
          ]
        }
      ]
    },
    {
      "cell_type": "code",
      "source": [
        "def WordDetect(m):\n",
        "  if m == m.lower():\n",
        "    print(\"lower\")\n",
        "  elif m == m.upper():\n",
        "    print(\"upper\")\n",
        "  else:\n",
        "    print(\"mixed\")\n",
        "\n",
        "sting_text = \"Bonjour\"\n",
        "\n",
        "WordDetect(sting_text)"
      ],
      "metadata": {
        "colab": {
          "base_uri": "https://localhost:8080/"
        },
        "id": "i9S0fVzeOPzy",
        "outputId": "d68abf4a-fe6b-479d-e2e2-f7c61af84740"
      },
      "execution_count": null,
      "outputs": [
        {
          "output_type": "stream",
          "name": "stdout",
          "text": [
            "mixed\n"
          ]
        }
      ]
    },
    {
      "cell_type": "code",
      "source": [
        "def wordDetect(s):\n",
        "  if len(s) > 15:\n",
        "    print(\"Wordy\")\n",
        "  elif len(s) < 15:\n",
        "    print(\"Clear\")\n",
        "\n",
        "sent = \"Nice to meet you! What are you doing now?\"\n",
        "sent2 = \"Hello World!\"\n",
        "\n",
        "wordDetect(sent)\n",
        "wordDetect(sent2)"
      ],
      "metadata": {
        "colab": {
          "base_uri": "https://localhost:8080/"
        },
        "id": "zZknb9FtPHKS",
        "outputId": "dbfe02f7-72b4-44b1-828a-14e933be44d4"
      },
      "execution_count": null,
      "outputs": [
        {
          "output_type": "stream",
          "name": "stdout",
          "text": [
            "Wordy\n",
            "Clear\n"
          ]
        }
      ]
    }
  ]
}