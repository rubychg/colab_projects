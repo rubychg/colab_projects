{
  "nbformat": 4,
  "nbformat_minor": 0,
  "metadata": {
    "colab": {
      "provenance": [],
      "authorship_tag": "ABX9TyNVscy1UUHK0O80SGoKiOw5",
      "include_colab_link": true
    },
    "kernelspec": {
      "name": "python3",
      "display_name": "Python 3"
    },
    "language_info": {
      "name": "python"
    }
  },
  "cells": [
    {
      "cell_type": "markdown",
      "metadata": {
        "id": "view-in-github",
        "colab_type": "text"
      },
      "source": [
        "<a href=\"https://colab.research.google.com/github/rubychg/colab_projects/blob/main/0523.ipynb\" target=\"_parent\"><img src=\"https://colab.research.google.com/assets/colab-badge.svg\" alt=\"Open In Colab\"/></a>"
      ]
    },
    {
      "cell_type": "code",
      "source": [
        "from google.colab import drive\n",
        "drive.mount('/content/drive')"
      ],
      "metadata": {
        "colab": {
          "base_uri": "https://localhost:8080/"
        },
        "id": "lJDHJn1UHQKT",
        "outputId": "ab461f8c-3ddd-4a77-8cd0-5aa88ff55378"
      },
      "execution_count": null,
      "outputs": [
        {
          "output_type": "stream",
          "name": "stdout",
          "text": [
            "Mounted at /content/drive\n"
          ]
        }
      ]
    },
    {
      "cell_type": "code",
      "source": [
        "ls \"/content/drive/MyDrive/Colab Notebooks/TXT\""
      ],
      "metadata": {
        "colab": {
          "base_uri": "https://localhost:8080/"
        },
        "id": "Q7544UgfOH88",
        "outputId": "851265b2-38d1-4afb-d81d-44048336331a"
      },
      "execution_count": null,
      "outputs": [
        {
          "output_type": "stream",
          "name": "stdout",
          "text": [
            "'Argument First Draft.txt'  'Cause and Effect Final Draft.txt'  'Definition Final Draft.txt'\n"
          ]
        }
      ]
    },
    {
      "cell_type": "code",
      "source": [
        "import nltk\n",
        "from nltk.corpus import PlaintextCorpusReader\n",
        "\n",
        "corpus_root = \"/content/drive/MyDrive/Colab Notebooks/TXT\"\n",
        "AAA = PlaintextCorpusReader(corpus_root, \".*\")\n",
        "\n",
        "books = AAA.fileids()\n",
        "print(books)"
      ],
      "metadata": {
        "colab": {
          "base_uri": "https://localhost:8080/"
        },
        "id": "fNv7mmnxSWmb",
        "outputId": "3e469d9a-b3f6-459c-f2d5-f84461f36d62"
      },
      "execution_count": null,
      "outputs": [
        {
          "output_type": "stream",
          "name": "stdout",
          "text": [
            "['Argument First Draft.txt', 'Cause and Effect Final Draft.txt', 'Definition Final Draft.txt']\n"
          ]
        }
      ]
    },
    {
      "cell_type": "code",
      "source": [
        "import nltk\n",
        "testText = AAA.words('Argument First Draft.txt')\n",
        "single = nltk.text.Text(testText)\n",
        "print(single)"
      ],
      "metadata": {
        "colab": {
          "base_uri": "https://localhost:8080/"
        },
        "id": "ALRrO0ayTM6n",
        "outputId": "e4c7de8c-6a23-4ba4-9be1-eea2da7ea9df"
      },
      "execution_count": null,
      "outputs": [
        {
          "output_type": "stream",
          "name": "stdout",
          "text": [
            "<Text: Cheng Ruby CHENG Shelly Hsiao Composition II Argument...>\n"
          ]
        }
      ]
    },
    {
      "cell_type": "code",
      "source": [
        "single.count(\"reading\")"
      ],
      "metadata": {
        "colab": {
          "base_uri": "https://localhost:8080/"
        },
        "id": "KGGtTZtxT4c9",
        "outputId": "46ebec5b-a430-47cb-b0e2-f243f8a7d76d"
      },
      "execution_count": null,
      "outputs": [
        {
          "output_type": "execute_result",
          "data": {
            "text/plain": [
              "5"
            ]
          },
          "metadata": {},
          "execution_count": 35
        }
      ]
    },
    {
      "cell_type": "code",
      "source": [
        "single.concordance(\"reading\", lines=5)"
      ],
      "metadata": {
        "colab": {
          "base_uri": "https://localhost:8080/"
        },
        "id": "1-a5YKklUzNm",
        "outputId": "55deeb39-4f4f-477a-d9ce-e551557afe81"
      },
      "execution_count": null,
      "outputs": [
        {
          "output_type": "stream",
          "name": "stdout",
          "text": [
            "Displaying 5 of 6 matches:\n",
            ". 10 . 2024 Does Age Have Impact on Reading ? I . Introduction A . As a bookwor\n",
            "ree critical elements that shape my reading choice through different stages of \n",
            "uld no longer be classified as good reading materials . Age has already turned \n",
            "distracted me as soon as I finished reading first paragraph . Some French profe\n",
            "ree critical elements that shape my reading choice through different stages of \n"
          ]
        }
      ]
    },
    {
      "cell_type": "code",
      "source": [
        "single.similar(\"love\")"
      ],
      "metadata": {
        "colab": {
          "base_uri": "https://localhost:8080/"
        },
        "id": "ZXU6vk_6VWmE",
        "outputId": "454fe175-a8af-48c0-dbbf-e7ad33615eed"
      },
      "execution_count": null,
      "outputs": [
        {
          "output_type": "stream",
          "name": "stdout",
          "text": [
            "mind\n"
          ]
        }
      ]
    },
    {
      "cell_type": "code",
      "source": [
        "import nltk\n",
        "testText = AAA.words(\"Argument First Draft.txt\")\n",
        "single = nltk.text.Text(testText)\n",
        "\n",
        "findList = [\"I\", \"reading\", \"Firstly\"]\n",
        "single.dispersion_plot(findList)"
      ],
      "metadata": {
        "colab": {
          "base_uri": "https://localhost:8080/",
          "height": 472
        },
        "id": "TSaZnKZgYLGg",
        "outputId": "7cd1c169-ee31-4d29-ca9c-90bb5fa4e8b9"
      },
      "execution_count": null,
      "outputs": [
        {
          "output_type": "display_data",
          "data": {
            "text/plain": [
              "<Figure size 640x480 with 1 Axes>"
            ],
            "image/png": "[encoded data removed]"
          },
          "metadata": {}
        }
      ]
    }
  ]
}